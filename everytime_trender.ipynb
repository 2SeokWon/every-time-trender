{
  "nbformat": 4,
  "nbformat_minor": 0,
  "metadata": {
    "colab": {
      "name": "everytime_trender.ipynb",
      "provenance": [],
      "collapsed_sections": [],
      "authorship_tag": "ABX9TyPuFltVMs6wUx4gB7vN4lxM",
      "include_colab_link": true
    },
    "kernelspec": {
      "name": "python3",
      "display_name": "Python 3"
    },
    "language_info": {
      "name": "python"
    },
    "accelerator": "GPU"
  },
  "cells": [
    {
      "cell_type": "markdown",
      "metadata": {
        "id": "view-in-github",
        "colab_type": "text"
      },
      "source": [
        "<a href=\"https://colab.research.google.com/github/2SeokWon/every-time-trender/blob/main/everytime_trender.ipynb\" target=\"_parent\"><img src=\"https://colab.research.google.com/assets/colab-badge.svg\" alt=\"Open In Colab\"/></a>"
      ]
    },
    {
      "cell_type": "code",
      "metadata": {
        "colab": {
          "base_uri": "https://localhost:8080/"
        },
        "id": "ohyvC_amwBzi",
        "outputId": "04ad02b6-9a61-4204-e20e-f39efa959b9e"
      },
      "source": [
        "!pip install selenium\n",
        "!apt-get update\n",
        "!apt install chromium-chromedriver\n",
        "!pip install konlpy"
      ],
      "execution_count": 1,
      "outputs": [
        {
          "output_type": "stream",
          "name": "stdout",
          "text": [
            "Collecting selenium\n",
            "  Downloading selenium-4.1.0-py3-none-any.whl (958 kB)\n",
            "\u001b[K     |████████████████████████████████| 958 kB 5.6 MB/s \n",
            "\u001b[?25hCollecting urllib3[secure]~=1.26\n",
            "  Downloading urllib3-1.26.7-py2.py3-none-any.whl (138 kB)\n",
            "\u001b[K     |████████████████████████████████| 138 kB 25.4 MB/s \n",
            "\u001b[?25hCollecting trio-websocket~=0.9\n",
            "  Downloading trio_websocket-0.9.2-py3-none-any.whl (16 kB)\n",
            "Collecting trio~=0.17\n",
            "  Downloading trio-0.19.0-py3-none-any.whl (356 kB)\n",
            "\u001b[K     |████████████████████████████████| 356 kB 46.4 MB/s \n",
            "\u001b[?25hCollecting async-generator>=1.9\n",
            "  Downloading async_generator-1.10-py3-none-any.whl (18 kB)\n",
            "Collecting outcome\n",
            "  Downloading outcome-1.1.0-py2.py3-none-any.whl (9.7 kB)\n",
            "Collecting sniffio\n",
            "  Downloading sniffio-1.2.0-py3-none-any.whl (10 kB)\n",
            "Requirement already satisfied: attrs>=19.2.0 in /usr/local/lib/python3.7/dist-packages (from trio~=0.17->selenium) (21.2.0)\n",
            "Requirement already satisfied: sortedcontainers in /usr/local/lib/python3.7/dist-packages (from trio~=0.17->selenium) (2.4.0)\n",
            "Requirement already satisfied: idna in /usr/local/lib/python3.7/dist-packages (from trio~=0.17->selenium) (2.10)\n",
            "Collecting wsproto>=0.14\n",
            "  Downloading wsproto-1.0.0-py3-none-any.whl (24 kB)\n",
            "Collecting pyOpenSSL>=0.14\n",
            "  Downloading pyOpenSSL-21.0.0-py2.py3-none-any.whl (55 kB)\n",
            "\u001b[K     |████████████████████████████████| 55 kB 3.0 MB/s \n",
            "\u001b[?25hCollecting cryptography>=1.3.4\n",
            "  Downloading cryptography-36.0.0-cp36-abi3-manylinux_2_24_x86_64.whl (3.6 MB)\n",
            "\u001b[K     |████████████████████████████████| 3.6 MB 37.9 MB/s \n",
            "\u001b[?25hRequirement already satisfied: certifi in /usr/local/lib/python3.7/dist-packages (from urllib3[secure]~=1.26->selenium) (2021.10.8)\n",
            "Requirement already satisfied: cffi>=1.12 in /usr/local/lib/python3.7/dist-packages (from cryptography>=1.3.4->urllib3[secure]~=1.26->selenium) (1.15.0)\n",
            "Requirement already satisfied: pycparser in /usr/local/lib/python3.7/dist-packages (from cffi>=1.12->cryptography>=1.3.4->urllib3[secure]~=1.26->selenium) (2.21)\n",
            "Requirement already satisfied: six>=1.5.2 in /usr/local/lib/python3.7/dist-packages (from pyOpenSSL>=0.14->urllib3[secure]~=1.26->selenium) (1.15.0)\n",
            "Collecting h11<1,>=0.9.0\n",
            "  Downloading h11-0.12.0-py3-none-any.whl (54 kB)\n",
            "\u001b[K     |████████████████████████████████| 54 kB 2.9 MB/s \n",
            "\u001b[?25hInstalling collected packages: sniffio, outcome, h11, cryptography, async-generator, wsproto, urllib3, trio, pyOpenSSL, trio-websocket, selenium\n",
            "  Attempting uninstall: urllib3\n",
            "    Found existing installation: urllib3 1.24.3\n",
            "    Uninstalling urllib3-1.24.3:\n",
            "      Successfully uninstalled urllib3-1.24.3\n",
            "\u001b[31mERROR: pip's dependency resolver does not currently take into account all the packages that are installed. This behaviour is the source of the following dependency conflicts.\n",
            "requests 2.23.0 requires urllib3!=1.25.0,!=1.25.1,<1.26,>=1.21.1, but you have urllib3 1.26.7 which is incompatible.\n",
            "datascience 0.10.6 requires folium==0.2.1, but you have folium 0.8.3 which is incompatible.\u001b[0m\n",
            "Successfully installed async-generator-1.10 cryptography-36.0.0 h11-0.12.0 outcome-1.1.0 pyOpenSSL-21.0.0 selenium-4.1.0 sniffio-1.2.0 trio-0.19.0 trio-websocket-0.9.2 urllib3-1.26.7 wsproto-1.0.0\n",
            "Get:1 https://cloud.r-project.org/bin/linux/ubuntu bionic-cran40/ InRelease [3,626 B]\n",
            "Ign:2 https://developer.download.nvidia.com/compute/cuda/repos/ubuntu1804/x86_64  InRelease\n",
            "Ign:3 https://developer.download.nvidia.com/compute/machine-learning/repos/ubuntu1804/x86_64  InRelease\n",
            "Get:4 http://ppa.launchpad.net/c2d4u.team/c2d4u4.0+/ubuntu bionic InRelease [15.9 kB]\n",
            "Get:5 https://developer.download.nvidia.com/compute/cuda/repos/ubuntu1804/x86_64  Release [696 B]\n",
            "Hit:6 https://developer.download.nvidia.com/compute/machine-learning/repos/ubuntu1804/x86_64  Release\n",
            "Get:7 http://security.ubuntu.com/ubuntu bionic-security InRelease [88.7 kB]\n",
            "Get:8 https://developer.download.nvidia.com/compute/cuda/repos/ubuntu1804/x86_64  Release.gpg [836 B]\n",
            "Hit:9 http://archive.ubuntu.com/ubuntu bionic InRelease\n",
            "Get:10 http://archive.ubuntu.com/ubuntu bionic-updates InRelease [88.7 kB]\n",
            "Hit:11 http://ppa.launchpad.net/cran/libgit2/ubuntu bionic InRelease\n",
            "Hit:13 http://ppa.launchpad.net/deadsnakes/ppa/ubuntu bionic InRelease\n",
            "Get:14 https://developer.download.nvidia.com/compute/cuda/repos/ubuntu1804/x86_64  Packages [828 kB]\n",
            "Get:15 http://archive.ubuntu.com/ubuntu bionic-backports InRelease [74.6 kB]\n",
            "Hit:16 http://ppa.launchpad.net/graphics-drivers/ppa/ubuntu bionic InRelease\n",
            "Get:17 http://ppa.launchpad.net/c2d4u.team/c2d4u4.0+/ubuntu bionic/main Sources [1,813 kB]\n",
            "Get:18 http://security.ubuntu.com/ubuntu bionic-security/main amd64 Packages [2,430 kB]\n",
            "Get:19 http://archive.ubuntu.com/ubuntu bionic-updates/main amd64 Packages [2,867 kB]\n",
            "Get:20 http://ppa.launchpad.net/c2d4u.team/c2d4u4.0+/ubuntu bionic/main amd64 Packages [928 kB]\n",
            "Get:21 http://security.ubuntu.com/ubuntu bionic-security/universe amd64 Packages [1,442 kB]\n",
            "Get:22 http://archive.ubuntu.com/ubuntu bionic-updates/universe amd64 Packages [2,222 kB]\n",
            "Fetched 12.8 MB in 3s (3,774 kB/s)\n",
            "Reading package lists... Done\n",
            "Reading package lists... Done\n",
            "Building dependency tree       \n",
            "Reading state information... Done\n",
            "The following additional packages will be installed:\n",
            "  chromium-browser chromium-browser-l10n chromium-codecs-ffmpeg-extra\n",
            "Suggested packages:\n",
            "  webaccounts-chromium-extension unity-chromium-extension\n",
            "The following NEW packages will be installed:\n",
            "  chromium-browser chromium-browser-l10n chromium-chromedriver\n",
            "  chromium-codecs-ffmpeg-extra\n",
            "0 upgraded, 4 newly installed, 0 to remove and 39 not upgraded.\n",
            "Need to get 94.0 MB of archives.\n",
            "After this operation, 324 MB of additional disk space will be used.\n",
            "Get:1 http://archive.ubuntu.com/ubuntu bionic-updates/universe amd64 chromium-codecs-ffmpeg-extra amd64 95.0.4638.69-0ubuntu0.18.04.1 [1,135 kB]\n",
            "Get:2 http://archive.ubuntu.com/ubuntu bionic-updates/universe amd64 chromium-browser amd64 95.0.4638.69-0ubuntu0.18.04.1 [83.6 MB]\n",
            "Get:3 http://archive.ubuntu.com/ubuntu bionic-updates/universe amd64 chromium-browser-l10n all 95.0.4638.69-0ubuntu0.18.04.1 [4,249 kB]\n",
            "Get:4 http://archive.ubuntu.com/ubuntu bionic-updates/universe amd64 chromium-chromedriver amd64 95.0.4638.69-0ubuntu0.18.04.1 [4,986 kB]\n",
            "Fetched 94.0 MB in 5s (19.2 MB/s)\n",
            "Selecting previously unselected package chromium-codecs-ffmpeg-extra.\n",
            "(Reading database ... 155222 files and directories currently installed.)\n",
            "Preparing to unpack .../chromium-codecs-ffmpeg-extra_95.0.4638.69-0ubuntu0.18.04.1_amd64.deb ...\n",
            "Unpacking chromium-codecs-ffmpeg-extra (95.0.4638.69-0ubuntu0.18.04.1) ...\n",
            "Selecting previously unselected package chromium-browser.\n",
            "Preparing to unpack .../chromium-browser_95.0.4638.69-0ubuntu0.18.04.1_amd64.deb ...\n",
            "Unpacking chromium-browser (95.0.4638.69-0ubuntu0.18.04.1) ...\n",
            "Selecting previously unselected package chromium-browser-l10n.\n",
            "Preparing to unpack .../chromium-browser-l10n_95.0.4638.69-0ubuntu0.18.04.1_all.deb ...\n",
            "Unpacking chromium-browser-l10n (95.0.4638.69-0ubuntu0.18.04.1) ...\n",
            "Selecting previously unselected package chromium-chromedriver.\n",
            "Preparing to unpack .../chromium-chromedriver_95.0.4638.69-0ubuntu0.18.04.1_amd64.deb ...\n",
            "Unpacking chromium-chromedriver (95.0.4638.69-0ubuntu0.18.04.1) ...\n",
            "Setting up chromium-codecs-ffmpeg-extra (95.0.4638.69-0ubuntu0.18.04.1) ...\n",
            "Setting up chromium-browser (95.0.4638.69-0ubuntu0.18.04.1) ...\n",
            "update-alternatives: using /usr/bin/chromium-browser to provide /usr/bin/x-www-browser (x-www-browser) in auto mode\n",
            "update-alternatives: using /usr/bin/chromium-browser to provide /usr/bin/gnome-www-browser (gnome-www-browser) in auto mode\n",
            "Setting up chromium-chromedriver (95.0.4638.69-0ubuntu0.18.04.1) ...\n",
            "Setting up chromium-browser-l10n (95.0.4638.69-0ubuntu0.18.04.1) ...\n",
            "Processing triggers for man-db (2.8.3-2ubuntu0.1) ...\n",
            "Processing triggers for hicolor-icon-theme (0.17-2) ...\n",
            "Processing triggers for mime-support (3.60ubuntu1) ...\n",
            "Processing triggers for libc-bin (2.27-3ubuntu1.3) ...\n",
            "/sbin/ldconfig.real: /usr/local/lib/python3.7/dist-packages/ideep4py/lib/libmkldnn.so.0 is not a symbolic link\n",
            "\n",
            "Collecting konlpy\n",
            "  Downloading konlpy-0.5.2-py2.py3-none-any.whl (19.4 MB)\n",
            "\u001b[K     |████████████████████████████████| 19.4 MB 1.2 MB/s \n",
            "\u001b[?25hRequirement already satisfied: lxml>=4.1.0 in /usr/local/lib/python3.7/dist-packages (from konlpy) (4.2.6)\n",
            "Requirement already satisfied: numpy>=1.6 in /usr/local/lib/python3.7/dist-packages (from konlpy) (1.19.5)\n",
            "Collecting colorama\n",
            "  Downloading colorama-0.4.4-py2.py3-none-any.whl (16 kB)\n",
            "Collecting JPype1>=0.7.0\n",
            "  Downloading JPype1-1.3.0-cp37-cp37m-manylinux_2_5_x86_64.manylinux1_x86_64.whl (448 kB)\n",
            "\u001b[K     |████████████████████████████████| 448 kB 44.6 MB/s \n",
            "\u001b[?25hCollecting beautifulsoup4==4.6.0\n",
            "  Downloading beautifulsoup4-4.6.0-py3-none-any.whl (86 kB)\n",
            "\u001b[K     |████████████████████████████████| 86 kB 5.2 MB/s \n",
            "\u001b[?25hRequirement already satisfied: tweepy>=3.7.0 in /usr/local/lib/python3.7/dist-packages (from konlpy) (3.10.0)\n",
            "Requirement already satisfied: typing-extensions in /usr/local/lib/python3.7/dist-packages (from JPype1>=0.7.0->konlpy) (3.10.0.2)\n",
            "Requirement already satisfied: six>=1.10.0 in /usr/local/lib/python3.7/dist-packages (from tweepy>=3.7.0->konlpy) (1.15.0)\n",
            "Requirement already satisfied: requests-oauthlib>=0.7.0 in /usr/local/lib/python3.7/dist-packages (from tweepy>=3.7.0->konlpy) (1.3.0)\n",
            "Requirement already satisfied: requests[socks]>=2.11.1 in /usr/local/lib/python3.7/dist-packages (from tweepy>=3.7.0->konlpy) (2.23.0)\n",
            "Requirement already satisfied: oauthlib>=3.0.0 in /usr/local/lib/python3.7/dist-packages (from requests-oauthlib>=0.7.0->tweepy>=3.7.0->konlpy) (3.1.1)\n",
            "Requirement already satisfied: chardet<4,>=3.0.2 in /usr/local/lib/python3.7/dist-packages (from requests[socks]>=2.11.1->tweepy>=3.7.0->konlpy) (3.0.4)\n",
            "Requirement already satisfied: idna<3,>=2.5 in /usr/local/lib/python3.7/dist-packages (from requests[socks]>=2.11.1->tweepy>=3.7.0->konlpy) (2.10)\n",
            "Requirement already satisfied: certifi>=2017.4.17 in /usr/local/lib/python3.7/dist-packages (from requests[socks]>=2.11.1->tweepy>=3.7.0->konlpy) (2021.10.8)\n",
            "Collecting urllib3!=1.25.0,!=1.25.1,<1.26,>=1.21.1\n",
            "  Downloading urllib3-1.25.11-py2.py3-none-any.whl (127 kB)\n",
            "\u001b[K     |████████████████████████████████| 127 kB 42.1 MB/s \n",
            "\u001b[?25hRequirement already satisfied: PySocks!=1.5.7,>=1.5.6 in /usr/local/lib/python3.7/dist-packages (from requests[socks]>=2.11.1->tweepy>=3.7.0->konlpy) (1.7.1)\n",
            "Installing collected packages: urllib3, JPype1, colorama, beautifulsoup4, konlpy\n",
            "  Attempting uninstall: urllib3\n",
            "    Found existing installation: urllib3 1.26.7\n",
            "    Uninstalling urllib3-1.26.7:\n",
            "      Successfully uninstalled urllib3-1.26.7\n",
            "  Attempting uninstall: beautifulsoup4\n",
            "    Found existing installation: beautifulsoup4 4.6.3\n",
            "    Uninstalling beautifulsoup4-4.6.3:\n",
            "      Successfully uninstalled beautifulsoup4-4.6.3\n",
            "\u001b[31mERROR: pip's dependency resolver does not currently take into account all the packages that are installed. This behaviour is the source of the following dependency conflicts.\n",
            "selenium 4.1.0 requires urllib3[secure]~=1.26, but you have urllib3 1.25.11 which is incompatible.\n",
            "datascience 0.10.6 requires folium==0.2.1, but you have folium 0.8.3 which is incompatible.\u001b[0m\n",
            "Successfully installed JPype1-1.3.0 beautifulsoup4-4.6.0 colorama-0.4.4 konlpy-0.5.2 urllib3-1.25.11\n"
          ]
        }
      ]
    },
    {
      "cell_type": "code",
      "metadata": {
        "id": "DfC-RVMTwWOY"
      },
      "source": [
        "import heapq\n",
        "from selenium import webdriver\n",
        "from urllib.request import urlopen\n",
        "from bs4 import BeautifulSoup\n",
        "from urllib.parse import quote_plus\n",
        "from selenium.webdriver.common.keys import Keys\n",
        "import time\n",
        "\n",
        "from konlpy.tag import Okt\n",
        "from collections import Counter"
      ],
      "execution_count": 2,
      "outputs": []
    },
    {
      "cell_type": "code",
      "metadata": {
        "id": "cqRVmrNxwblu"
      },
      "source": [
        "id_ = 'swseokwon'\n",
        "password = 'seok0214qq'"
      ],
      "execution_count": 3,
      "outputs": []
    },
    {
      "cell_type": "code",
      "metadata": {
        "colab": {
          "base_uri": "https://localhost:8080/"
        },
        "id": "EkhpkfB3whgr",
        "outputId": "5e5b87ed-b767-4823-930b-28845f111632"
      },
      "source": [
        "import pandas as pd\n",
        "\n",
        "df = pd.DataFrame(columns = ['text'])\n",
        "\n",
        "chrome_options = webdriver.ChromeOptions()\n",
        "chrome_options.add_argument('--headless')\n",
        "chrome_options.add_argument('--no-sandbox')\n",
        "chrome_options.add_argument('--disable-dev-shm-usage')\n",
        "chrome_options.add_argument(\"user-agent={Mozilla/5.0 (X11; Linux x86_64) AppleWebKit/537.36 (KHTML, like Gecko) Chrome/85.0.4183.121 Safari/537.36}\")\n",
        "driver = webdriver.Chrome('chromedriver', chrome_options=chrome_options)\n",
        "\n",
        "url = 'https://everytime.kr/login'\n",
        "\n",
        "driver.get(url)\n",
        "\n",
        "driver.find_element_by_name(\"userid\").send_keys(id_)\n",
        "\n",
        "driver.find_element_by_name(\"password\").send_keys(password)\n",
        "\n",
        "driver.find_element_by_tag_name(\"input\").send_keys(Keys.RETURN)\n",
        "\n",
        "time.sleep(2)\n",
        "driver.find_element_by_xpath('//*[@id=\"submenu\"]/div[1]/div[2]/ul/li[1]//a').click()\n",
        "\n",
        "time.sleep(0.5)\n",
        "\n",
        "res = driver.page_source\n",
        "soup = BeautifulSoup(res,\"html.parser\")\n",
        "data_name = soup.select('#container > div.wrap.articles > article > a > h2')\n",
        "data_text = soup.select('#container > div.wrap.articles > article > a > p')\n",
        "\n",
        "for name,text in zip(data_name,data_text):\n",
        "    df.loc[df.shape[0]] = [name.get_text() + ' ' + text.get_text()]  \n",
        " \n",
        "time.sleep(1)\n",
        "def next_page():\n",
        "    driver.find_element_by_css_selector('#container > div.wrap.articles > div.pagination > a.next').click()\n",
        "    time.sleep(0.5)\n",
        "    \n",
        "    res = driver.page_source\n",
        "    soup = BeautifulSoup(res,\"html.parser\")\n",
        "    data_name = soup.select('#container > div.wrap.articles > article > a > h2')\n",
        "    data_text = soup.select('#container > div.wrap.articles > article > a > p')   \n",
        "    for name,text in zip(data_name,data_text):\n",
        "        df.loc[df.shape[0]] = [name.get_text() + ' ' + text.get_text()]      \n",
        "time.sleep(0.5)\n",
        "for page_roof in range(50):\n",
        "    next_page()\n",
        "driver.quit()"
      ],
      "execution_count": 5,
      "outputs": [
        {
          "output_type": "stream",
          "name": "stderr",
          "text": [
            "/usr/local/lib/python3.7/dist-packages/ipykernel_launcher.py:10: DeprecationWarning: use options instead of chrome_options\n",
            "  # Remove the CWD from sys.path while we load stuff.\n",
            "/usr/local/lib/python3.7/dist-packages/ipykernel_launcher.py:16: DeprecationWarning: find_element_by_* commands are deprecated. Please use find_element() instead\n",
            "  app.launch_new_instance()\n",
            "/usr/local/lib/python3.7/dist-packages/ipykernel_launcher.py:18: DeprecationWarning: find_element_by_* commands are deprecated. Please use find_element() instead\n",
            "/usr/local/lib/python3.7/dist-packages/ipykernel_launcher.py:20: DeprecationWarning: find_element_by_* commands are deprecated. Please use find_element() instead\n",
            "/usr/local/lib/python3.7/dist-packages/ipykernel_launcher.py:23: DeprecationWarning: find_element_by_* commands are deprecated. Please use find_element() instead\n",
            "/usr/local/lib/python3.7/dist-packages/ipykernel_launcher.py:37: DeprecationWarning: find_element_by_* commands are deprecated. Please use find_element() instead\n"
          ]
        }
      ]
    },
    {
      "cell_type": "code",
      "metadata": {
        "id": "hVsQdbUuwb6b",
        "colab": {
          "base_uri": "https://localhost:8080/"
        },
        "outputId": "85369a2a-1002-4cc0-aef8-bd7a48274606"
      },
      "source": [
        "count_dic={}\n",
        "\n",
        "for text in df.text:\n",
        "  twitter = Okt()\n",
        "  noun = twitter.nouns(str(text))\n",
        "  count_dic.update(Counter(noun))\n",
        "\n",
        "noun_list = Counter(count_dic)\n",
        "noun_list = list(noun_list.items())\n",
        "print(noun_list)"
      ],
      "execution_count": 18,
      "outputs": [
        {
          "output_type": "stream",
          "name": "stdout",
          "text": [
            "[('처녀성', 1), ('내', 1), ('이', 1), ('여자', 2), ('처음', 1), ('정복', 1), ('감', 1), ('때문', 1), ('선호', 1), ('거', 1), ('뭘', 1), ('존나', 1), ('척', 1), ('순결', 1), ('과거', 1), ('여성', 1), ('핑계', 1), ('대고', 1), ('쿵쾅', 1), ('안경', 1), ('멸치', 1), ('남자', 1), ('좀', 1), ('어디', 1), ('니', 1), ('끼리', 1), ('얘', 1), ('포옹', 1), ('하자', 1), ('와락', 1), ('그', 2), ('물티슈', 1), ('뚜껑', 1), ('가게', 1), ('못', 1), ('팔자', 1), ('처녀', 2), ('맥락', 1), ('임', 1), ('첫사랑', 1), ('최선', 1), ('다해', 1), ('사랑', 1), ('차이', 1), ('마음', 1), ('정리', 1), ('상탠데', 1), ('다시', 1), ('연락', 1), ('지금', 1), ('취향', 1), ('자건', 1), ('얼굴', 1), ('사람', 1), ('중', 1), ('별로', 1), ('아주', 1), ('폰', 1), ('싸움', 1), ('봄', 1), ('떡밥', 1), ('바', 1), ('개인', 1), ('생각', 1), ('고추', 1), ('비교', 1), ('건', 1), ('것', 1), ('오', 1), ('이건', 1), ('가슴', 1), ('골반', 1), ('동치', 1), ('동물', 1), ('본능', 1), ('심리철학', 1), ('기말고사', 1), ('범위', 1), ('키', 1), ('솔', 1), ('세상', 1), ('존재', 2), ('거의', 1), ('모든', 1), ('로부터', 1), ('뚜', 1), ('창의', 1), ('장학금', 2), ('보신', 1), ('수여', 2), ('꼭', 1), ('수', 1), ('핫', 1), ('보고', 1), ('디씨', 1), ('어플', 1), ('리뉴얼', 1), ('줄', 1), ('실베', 1), ('수준', 1), ('방금', 1), ('깨달음', 1), ('성관계', 1), ('횟수', 1), ('정상', 1), ('존중', 1), ('무작정', 1), ('욕', 1), ('비정상', 1), ('진짜', 1), ('뭐', 1), ('이제', 1), ('소리', 1), ('발언', 1), ('듣기', 1), ('말', 1), ('집', 1), ('뜬금', 1), ('성욕', 2), ('별개', 1), ('일단', 1), ('보통', 1), ('이상성욕', 1), ('수도', 1), ('인형', 1), ('애', 2), ('시체', 1), ('경험', 1), ('그닥', 1), ('이성', 1), ('숫자', 1), ('문제', 1), ('사람과', 2), ('번', 1), ('명의', 1), ('일정', 1), ('왜', 1), ('나', 1), ('만', 1), ('한양대', 3), ('간호학', 2), ('친구', 1), ('논술', 1), ('가천대', 2), ('간호', 1), ('둘', 1), ('에리', 1), ('카', 1), ('소설', 2), ('권', 1), ('취미', 1), ('독서', 2), ('밖', 1), ('중고', 1), ('거래', 1), ('점', 1), ('아침', 1), ('밤', 1), ('때', 1), ('매우', 1), ('대충', 1), ('눈', 1), ('상품', 1), ('율', 1), ('전가', 1), ('법', 1), ('혜화', 2), ('제일', 1), ('인자', 1), ('셔틀', 1), ('율전', 1), ('한번', 1), ('티', 1), ('나눔', 1), ('게시판', 1), ('가면', 1), ('기프티콘', 2), ('사용', 2), ('댓글', 1), ('해', 1), ('씨발', 1), ('섹스', 1), ('안', 1), ('면전', 1), ('거도', 1), ('난', 1), ('신경안', 1), ('함', 1), ('싸우지마', 1), ('사이', 1), ('공차', 1), ('스탬프', 1), ('개', 1), ('채운', 1), ('걸', 1), ('아무', 1), ('음료', 1), ('정말', 1), ('이해', 1), ('별', 1), ('는걸', 1), ('해석', 1), ('면', 1), ('기존', 1), ('감소', 2), ('가요', 1), ('시발', 1), ('에타', 1), ('정도', 1), ('혐오', 1), ('의견', 1), ('계속', 1), ('야동', 1), ('사이트', 1), ('카테고리', 2), ('목록', 1), ('종류', 1), ('필요', 1), ('그냥', 1), ('어차피', 1), ('여기', 1), ('거리', 1), ('화난', 1), ('여자애', 1), ('현실', 1), ('만날', 1), ('일', 1), ('실현', 1), ('라면', 1), ('마음속', 1), ('비', 1), ('통제', 1), ('페미', 1), ('빅브라더', 1), ('기독교', 1), ('가지', 1), ('그림자', 2), ('아빠', 1), ('목사', 1), ('시', 1), ('완전', 1), ('크리스', 1), ('쳔', 1), ('그것', 1), ('크리스마스', 1), ('이브', 1), ('날', 1), ('슬립오버', 1), ('심연', 1), ('가뜩이나', 1), ('출산율', 1), ('서로', 1), ('예', 1), ('인간', 1), ('감정', 1), ('이성만', 1), ('래야', 1), ('갈등', 1), ('막', 1), ('런가', 1), ('자시', 1), ('아무나', 1), ('떼', 1), ('단지', 1), ('기분', 1), ('이유', 1), ('제한', 1), ('어이', 1), ('웃기', 1), ('제곧내', 1), ('빙', 1), ('신들', 1), ('여경', 1), ('남경', 1), ('이탈', 1), ('논란', 1), ('정론', 1), ('상황', 2), ('체력', 1), ('내년', 1), ('대면', 1), ('구야', 1), ('응', 1), ('찬양', 1), ('어리둥절', 1), ('그게', 1), ('능구렁이', 1), ('적', 2), ('꽤', 1), ('단어', 1), ('칭찬', 1), ('구', 1), ('반박', 1), ('어제', 1), ('노트북', 1), ('열람', 1), ('실', 1), ('공부', 2), ('조디', 1), ('영어', 2), ('과제', 1), ('내일', 1), ('제출', 2), ('란', 1), ('금요일', 1), ('마감', 2), ('론', 1), ('남녀', 1), ('갈릴', 1), ('상대', 1), ('대한', 1), ('육체', 1), ('충족', 1), ('경향', 1), ('더', 1), ('커서', 1), ('화가', 1), ('이야기', 1), ('불문', 1), ('무슨', 1), ('이상형', 1), ('양심', 1), ('제파', 1), ('그대로', 1), ('데', 1), ('선', 1), ('똥글', 1), ('자기', 1), ('성균관대', 1), ('통계', 1), ('학과', 1), ('유교', 1), ('인터넷', 2), ('글', 2), ('본인', 1), ('손해', 1), ('커뮤니티', 1), ('박정민', 1), ('응팔', 1), ('보라', 1), ('전남친', 1), ('룸', 1), ('카페', 1), ('모임', 2), ('조원', 1), ('저', 1), ('포함', 1), ('명', 1), ('얘기', 1), ('아시', 1), ('분', 1), ('추천', 1), ('환기', 1), ('방', 1), ('냄새', 1), ('인기', 1), ('도통', 1), ('핫게', 1), ('온갖', 1), ('조롱', 2), ('일인', 1), ('연애', 2), ('고수', 1), ('결혼', 1), ('공', 1), ('학생', 1), ('와인', 1), ('병신', 1), ('새끼', 1), ('애인', 1), ('굳이', 1), ('보지', 1), ('털', 1), ('경영', 1), ('학생회', 1), ('추진', 1), ('공약', 1), ('시설', 1), ('학교', 1), ('커리큘럼', 1), ('개선', 1), ('부분', 1), ('고질', 1), ('확충', 1), ('보호', 1), ('사무실', 1), ('출근', 1), ('제발', 1), ('탈출', 2), ('성매매', 1), ('시간', 1), ('어감', 1), ('이제야', 1), ('총각', 2), ('비유', 1), ('동정', 1), ('빡', 1), ('버전', 1), ('처남', 2), ('매형', 1), ('옴', 1), ('중국', 1), ('을', 1), ('젠', 1), ('허락', 1), ('개역', 1), ('겹', 1), ('거기', 1), ('너', 1), ('뽀뽀', 1), ('황교안', 1), ('황교익', 1), ('호감', 1), ('투표', 1), ('글리', 1), ('대기', 1), ('얼마', 1), ('전', 1), ('분탕', 1), ('주작', 1), ('잔뜩', 1), ('인증', 2), ('관심', 2), ('열', 1), ('불', 1), ('내면', 1), ('걔', 1), ('이용', 1), ('로', 1), ('농협', 1), ('배', 1), ('이벤트', 1), ('여자도', 1), ('스펙', 1), ('외모', 1), ('스킬', 1), ('이면', 1), ('처녀막', 1), ('수술', 1), ('남편', 1), ('첫경험', 1), ('첫날', 1), ('선물', 1), ('경우', 1), ('성공', 1), ('여부', 2), ('혈', 1), ('기숙사', 1), ('신청', 1), ('관련', 1), ('질문', 1), ('번호', 1), ('무시', 1), ('요즘', 1), ('시대', 1), ('프리', 1), ('누가', 1), ('블랙', 1), ('핑크', 1), ('국내', 1), ('너희', 1), ('비혼', 1), ('돌싱', 1), ('누굴', 1), ('지각', 2), ('똥', 1), ('고', 2), ('반', 1), ('강조', 1), ('하진', 1), ('보완', 1), ('낼', 1), ('성균관', 1), ('유생', 1), ('설거지', 1), ('심화', 2), ('과정', 1), ('개강', 1), ('열렬', 1), ('광', 1), ('반응', 1), ('개설', 1), ('언', 1), ('드글드글', 1), ('은', 1), ('만하', 1), ('이성애', 1), ('동성애', 1), ('정돈', 1), ('가도', 2), ('서나', 1), ('이번', 1), ('브레이크', 1), ('타임', 1), ('그때', 1), ('오늘', 1), ('반찬', 1), ('맛', 1), ('남친', 1), ('혼자', 1), ('전혀', 1), ('그날', 1), ('바로', 1), ('느낌', 1), ('위', 1), ('막상', 1), ('태반', 1), ('코로나', 1), ('검사', 2), ('결과', 1), ('수료', 1), ('졸업', 2), ('아녕', 1), ('학기', 1), ('머', 1), ('요', 1), ('제', 2), ('두시', 1), ('뭔가', 1), ('개뿔', 1), ('거나', 2), ('입', 2), ('이빨', 1), ('상처', 1), ('목석', 1), ('마냥', 2), ('서부', 1), ('스마라', 1), ('코트', 1), ('하나', 1), ('디자인', 1), ('빈티', 1), ('지로', 1), ('진짜진짜', 1), ('따숩', 1), ('핏', 1), ('픽', 1), ('백신', 1), ('또', 1), ('차', 1), ('집착', 1), ('일수', 1), ('표준', 1), ('표상', 1), ('하위', 1), ('프론데', 1), ('여자친구', 1), ('체격', 1), ('크기', 1), ('전부', 1), ('확률', 1), ('음', 1), ('안해', 1), ('주제', 1), ('역시', 1), ('군대', 2), ('직업', 1), ('순환', 1), ('책', 2), ('관상', 1), ('호', 1), ('대차', 1), ('처리', 1), ('상태', 1), ('발송', 1), ('혹시', 1), ('도착', 1), ('문자', 1), ('논쟁', 1), ('거부', 1), ('로서', 1), ('진심', 1), ('남', 1), ('의도', 1), ('정작', 1), ('여친', 1), ('혼', 1), ('후관', 2), ('주의', 1), ('도', 1), ('주의자', 1), ('망상', 1), ('로남불', 1), ('주변', 1), ('판단', 1), ('누구', 1), ('요정', 1), ('가불', 1), ('기', 1), ('화', 1), ('화남', 1), ('처년데', 1), ('이론', 1), ('무적', 1), ('아이폰', 1), ('미니', 2), ('편', 1), ('선약', 1), ('공시', 1), ('벌레', 1), ('학', 1), ('선거', 1), ('핫팩', 1), ('챔스', 2), ('신', 1), ('호날두', 1), ('역사상', 1), ('최고', 1), ('돌때', 1), ('은애', 1), ('더니', 1), ('극딜', 1), ('박', 1), ('사실', 1), ('보', 1), ('시험', 3), ('기간', 1), ('게이', 1), ('비엘', 2), ('레즈', 1), ('애초', 1), ('여성향', 1), ('겐고', 1), ('작품', 1), ('장미', 1), ('물이', 1), ('선언', 1), ('혼전', 1), ('수요', 1), ('쏠', 1), ('호재', 1), ('중도', 1), ('자리', 1), ('배정', 1), ('빈자리', 1), ('형제', 1), ('사망', 1), ('형제자매', 1), ('외동', 1), ('낫', 1), ('사건', 1), ('드라마', 1), ('순간', 1), ('역사', 1), ('뒤엎을만', 1), ('선택', 1), ('연속', 1), ('몰입도', 1), ('운동선수', 1), ('몸', 2), ('사회과학', 1), ('진행', 1), ('대학', 1), ('소속', 1), ('학우', 1), ('여러분', 1), ('현재', 1), ('핵심', 1), ('각기', 1), ('다른', 1), ('소통', 1), ('부재', 1), ('상임', 1), ('존잘', 1), ('연애경험', 1), ('초반', 1), ('조금', 1), ('산업혁명', 1), ('사회', 1), ('문화', 1), ('유지', 1), ('범', 1), ('교수', 2), ('지난', 1), ('오픈', 1), ('북', 1), ('어원', 1), ('원래', 1), ('의미', 1), ('동아시아', 1), ('미혼남자', 1), ('양갈래', 1), ('머리', 1), ('샐러드', 1), ('명륜', 1), ('호선', 1), ('통학', 1), ('인류', 1), ('명함', 1), ('뭐임', 1), ('던', 1), ('선배', 1), ('형', 1), ('누나', 1), ('우리', 1), ('최고다', 2), ('운동', 1), ('등', 1), ('힘', 1), ('관계', 1), ('평등', 1), ('가스', 2), ('공사', 1), ('비정규직', 1), ('정규직', 1), ('알바', 1), ('평소', 1), ('시작', 1), ('대비', 1), ('일당백', 1), ('언제', 1), ('아버지', 1), ('지역', 1), ('경찰청장', 1), ('남자친구', 1), ('입장', 1), ('방수', 1), ('공이', 1), ('후후후', 4), ('글경', 1), ('천진', 1), ('석', 1), ('수업', 2), ('만점', 1), ('실리', 1), ('버스', 1), ('성대', 1), ('문학상', 1), ('오매불망', 1), ('휴대폰', 1), ('성지', 1), ('금제', 2), ('부가', 1), ('서비스', 1), ('몇', 1), ('기본', 1), ('현금', 1), ('완납', 1), ('조건', 1), ('얼마나', 1), ('후', 1), ('삽입', 1), ('속궁합', 1), ('건가', 1), ('스탠', 1), ('딩바', 1), ('공짜', 1), ('시급', 1), ('대신', 1), ('뭔갈', 1), ('한단', 1), ('뜻', 1), ('남초', 1), ('초', 1), ('해감', 1), ('신경', 1), ('살이', 1), ('쭉쭉', 1), ('이후', 1), ('상위', 1), ('티어', 1), ('남여', 1), ('인', 1), ('양성평등', 1), ('성차별', 1), ('편견', 1), ('근거', 1), ('땐', 1), ('악화', 1), ('양화', 1), ('구축', 2), ('일본', 1), ('표현', 1), ('우리말', 1), ('통합', 1), ('분위기', 1), ('던디', 1), ('모두', 2), ('맛점맛점', 1), ('니거', 1), ('장난감', 1), ('미숙', 1), ('섹슈얼', 1), ('흥미', 1), ('영관', 1), ('지하', 1), ('층', 1), ('카드', 1), ('신한', 1), ('체크카드', 1), ('남색', 1), ('보관', 1), ('쪽지', 1), ('성인', 1), ('새내기', 1), ('고서', 1), ('나오니', 1), ('헤퍼', 1), ('성병', 1), ('보유', 1), ('용법', 1), ('김쌤', 1), ('온라인', 2), ('발표', 2), ('노베', 1), ('한식', 2), ('맛집', 2), ('셈', 1), ('건데', 1), ('신부', 1), ('중후', 1), ('쯤', 1), ('볼', 1), ('네', 1), ('수두', 1), ('불좀', 1), ('핸드폰', 1), ('거가', 1), ('게', 1), ('거임', 1), ('명제', 1), ('여야', 1), ('다라', 1), ('당위', 1), ('새벽', 1), ('미국', 1), ('주식', 1), ('동성', 1), ('면접', 1), ('복장', 2), ('공기업', 1), ('체험', 1), ('인턴', 1), ('약간', 1), ('매표', 1), ('업무', 1), ('보조', 1), ('요구', 1), ('가치', 1), ('볼때', 1), ('대박', 1), ('와우', 1), ('증권사', 1), ('재직', 1), ('익', 1), ('봉수', 1), ('심기', 1), ('체론', 1), ('부터', 1), ('수강', 1), ('말좀', 1), ('덜', 1), ('국통', 1), ('실라', 1), ('덜컥', 1), ('달', 1), ('덩이', 1), ('영상', 1), ('졸라', 1), ('넼', 1), ('페이트', 1), ('능', 1), ('속', 1), ('과', 2), ('몰입', 1), ('귀차니즘', 1), ('끝판', 1), ('심지어', 1), ('첵디사웃', 1), ('백발백중', 1), ('유', 1), ('공자', 1), ('매년', 1), ('추가', 1), ('증거', 1), ('선본', 2), ('먼저', 1), ('정문', 1), ('올레', 1), ('사거리', 1), ('학번', 3), ('옛날', 1), ('하늘', 1), ('맹세코', 1), ('회장', 1), ('단', 1), ('안면도', 1), ('꽃', 2), ('식물', 1), ('인생', 1), ('스', 1), ('별거', 1), ('위해', 1), ('자', 1), ('길이', 1), ('잼날걸', 1), ('어그', 1), ('꾼', 1), ('살인', 1), ('우발', 1), ('이어도', 1), ('치매', 1), ('끼', 1), ('할머니', 1), ('공격', 1), ('몸싸움', 1), ('물리', 1), ('살짝', 1), ('젠더', 1), ('상당수', 1), ('쉐도우', 1), ('복싱', 1), ('듯', 1), ('돼지', 1), ('흡연', 1), ('음주', 1), ('어쩌', 1), ('캠', 1), ('퀴즈', 1), ('페이지', 1), ('확인', 1), ('와이파이', 1), ('튕긴거', 1), ('식', 1), ('자체', 1), ('은근', 1), ('출퇴근시간', 1), ('처녀워딩', 1), ('뿐', 1), ('인식', 3), ('갑자기', 1), ('과외', 3), ('컴플렉스', 1), ('덕분', 1), ('살', 1), ('가치관', 1), ('전략', 1), ('철', 1), ('족보', 1), ('날씨', 1), ('생얼', 1), ('고려', 1), ('포기', 1), ('하루', 1), ('종일', 1), ('저녁', 2), ('친', 1), ('카톡', 1), ('비어', 1), ('중이', 1), ('혼전순결', 1), ('심리', 1), ('친자', 1), ('의상', 1), ('복전', 2), ('기한', 1), ('알', 1), ('이승우', 2), ('방출', 1), ('항상', 1), ('지도', 1), ('연', 1), ('종이', 2), ('혼틈섹', 1), ('붕어빵', 1), ('슈크림', 1), ('청년', 1), ('달퐁', 1), ('퐁퐁', 1), ('레드', 1), ('필', 2), ('소름', 1), ('자료', 2), ('개념', 1), ('실체', 1), ('퍼즐', 1), ('박멸', 1), ('넷플', 1), ('월', 1), ('정액', 1), ('꼬박꼬박', 1), ('깡패', 2), ('국제', 1), ('조폭', 1), ('한국', 1), ('중국인', 1), ('어', 1), ('쌍수', 2), ('용', 1), ('전체', 1), ('코', 1), ('편이', 1), ('광대', 1), ('입술', 1), ('객관', 1), ('사전', 1), ('창녀', 1), ('개꿀잼', 1), ('지관', 1), ('워딩', 1), ('직장인', 1), ('분류', 1), ('여론', 1), ('원함', 1), ('악깡버', 2), ('악', 1), ('깡', 1), ('드립', 1), ('유래', 1), ('아씨', 1), ('점심', 1), ('오후', 2), ('상관', 1), ('그름', 1), ('생기', 1), ('훠어', 1), ('얼씬', 1), ('통계학', 1), ('공진', 1), ('입시', 1), ('사항', 1), ('문과', 1), ('공대', 1), ('수학', 1), ('내내', 1), ('해도', 1), ('불만', 1), ('이과', 1), ('노력', 1), ('학점', 1), ('과목', 1), ('유급', 1), ('생', 1), ('언니', 1), ('소위', 1), ('특징', 1), ('심리학', 2), ('연구', 2), ('수시', 1), ('밀접', 1), ('접촉', 1), ('확', 1), ('진자', 1), ('급증', 1), ('부산', 1), ('여행', 1), ('숙소', 1), ('교통', 1), ('예매', 2), ('방어', 1), ('회도', 1), ('어구', 1), ('이서', 1), ('계절', 2), ('입금', 1), ('자동', 1), ('취소', 1), ('다세', 1), ('가능', 1), ('신가', 1), ('뉴스', 1), ('기사', 1), ('설명', 1), ('월세', 1), ('보증금', 1), ('속눈썹', 1), ('펌', 1), ('숱', 1), ('걱정', 2), ('베', 2), ('원픽', 1), ('컴활', 1), ('필기', 1), ('순서도', 1), ('기출', 1), ('순서', 1), ('도서관', 1), ('연체', 1), ('료', 1), ('반납', 3), ('고민', 1), ('이틀', 1), ('뒤', 1), ('생일', 1), ('스케일', 1), ('목요일', 1), ('다음', 1), ('다가', 1), ('간다', 1), ('등신', 1), ('역대', 1), ('개판', 1), ('공주', 1), ('잠시', 1), ('성안', 1), ('피신', 1), ('삥뿌', 1), ('라푼젤', 1), ('콘돔', 1), ('꼬무', 1), ('시절', 1), ('지상', 1), ('관', 2), ('주', 1), ('민', 1), ('현대', 1), ('민주주의', 1), ('주기', 1), ('성비', 1), ('가야', 1), ('커뮤', 1), ('쌈질', 1), ('곳', 1), ('바람의나라', 1), ('무한', 1), ('주제가', 1), ('태도', 1), ('리스크', 1), ('부감', 1), ('삶', 1), ('영식', 1), ('미시', 2), ('친구드', 1), ('공지', 1), ('오래됨', 1), ('키크', 1), ('성격', 1), ('대남', 1), ('유니콘', 1), ('방법', 1), ('요새', 1), ('합법', 1), ('죄책감', 1), ('남성', 1), ('자신', 1), ('취함', 1), ('가장', 1), ('크게', 1), ('성', 1), ('설령', 1), ('대의', 1), ('난봉', 1), ('마찬가지', 1), ('설득', 1), ('시도', 1), ('효과', 1), ('증명', 1), ('일임', 1), ('교직원', 1), ('비주류', 1), ('부총', 1), ('총장', 1), ('피', 1), ('잇엇음', 1), ('놈', 1), ('시벌', 1), ('롬', 1), ('달라', 1), ('가상', 1), ('계좌', 1), ('에붕', 1), ('사진', 1), ('공유', 1), ('토끼', 1), ('킹', 1), ('봇', 1), ('버디', 1), ('구글', 2), ('폼', 1), ('설문', 1), ('계정', 1), ('린다', 1), ('참고', 1), ('구성애', 1), ('선생님', 1), ('테크닉', 1), ('에붕이들', 1), ('댓', 1), ('금지', 1), ('휘트니', 1), ('가격', 1), ('라커', 1), ('도비', 1), ('장수', 1), ('분식', 1), ('메뉴', 1), ('표시', 1), ('자존감', 2), ('포', 1), ('클럽', 1), ('히토미', 1), ('내용', 1), ('장문', 1), ('삭제', 1), ('말투', 1), ('글삭', 1), ('역문', 1), ('주차', 1), ('밴드', 1), ('라나', 1), ('중고나라', 1), ('콜렉터', 1), ('잉쁘삐들', 1), ('공통점', 2), ('매일', 1), ('나름', 1), ('숨기', 1), ('그림', 1), ('가라', 1), ('쫄려', 1), ('뷔페', 1), ('갈건', 1), ('비법', 1), ('전수', 1), ('군것질', 1), ('긴장', 1), ('신우', 1), ('일신', 1), ('급', 1), ('평범', 1), ('녀', 1), ('훈남', 1), ('훈녀', 1), ('전시회', 1), ('밥', 1), ('대접', 1), ('반년', 1), ('외국', 1), ('메트릭스', 1), ('블루', 1), ('슬로건', 1), ('설문조사', 2), ('부탁', 1), ('고급', 1), ('쓰기', 1), ('서요', 1), ('습', 1), ('감사', 1), ('모', 1), ('강호동', 1), ('회사', 1), ('워크샵', 1), ('제주도', 1), ('출장', 1), ('술', 1), ('일베', 3), ('드림', 1), ('등등', 1), ('소지', 1), ('어나더', 1), ('레벨', 1), ('대화', 1), ('음지', 1), ('주장', 1), ('불법', 1), ('이상', 1), ('도대체', 1), ('일이', 1), ('저쩌', 1), ('다이어트', 1), ('결심', 1), ('만두', 1), ('나이', 1), ('무조건', 1), ('서강', 1), ('후배', 1), ('성적', 1), ('이과인', 1), ('앤데', 1), ('서울대', 1), ('밭', 1), ('답답', 1), ('본질', 1), ('걔네', 1), ('구석', 1), ('너드', 1), ('야호', 1), ('롱패딩', 1), ('여론조사', 1), ('경제', 1), ('합격자', 1), ('내심', 1), ('차콜', 1), ('색', 3), ('회검', 1), ('무채색', 1), ('루넹', 1), ('밑', 1), ('지우개', 1), ('교양', 1), ('재수강', 1), ('대림동', 1), ('조작', 1), ('박제', 1), ('선동', 2), ('가짜', 1), ('사례', 1), ('실수', 1), ('반성', 1), ('필라테스', 1), ('요가', 1), ('렌즈', 1), ('놀이', 1), ('안감', 1), ('공부량', 1), ('무용', 1), ('해결', 1), ('간호사', 2), ('전통문화', 1), ('정신', 1), ('똑바로', 1), ('의료', 1), ('경찰', 1), ('해주', 1), ('글로벌', 1), ('증원', 2), ('옷', 1), ('작고', 1), ('슬랙스', 1), ('사이즈', 2), ('팀', 3), ('기소유예', 1), ('빼박', 1), ('팀팬', 1), ('타오', 1), ('왤케', 1), ('중반', 1), ('아만다', 1), ('메타', 1), ('미팅', 1), ('광고', 1), ('계열', 1), ('제의', 1), ('단점', 1), ('싸이', 1), ('강남스타일', 2), ('해외', 1), ('입단', 1), ('환영', 1), ('회', 1), ('춤', 1), ('기도', 1), ('시보', 1), ('인데', 1), ('현장', 1), ('민원', 1), ('단순', 1), ('땀', 1), ('삐', 1), ('하차', 1), ('벨', 1), ('줌', 2), ('북한', 1), ('오징어', 1), ('게임', 1), ('시청자', 1), ('무기징역', 1), ('판매', 1), ('총살형', 1), ('개월', 1), ('경위', 1), ('굿모닝', 1), ('정해', 1), ('지창욱', 1), ('이종석', 1), ('은우', 1), ('박서준', 1), ('신세경', 1), ('박은빈', 1), ('윤정', 1), ('서현진', 1), ('소희', 1), ('수지', 1), ('오히려', 1), ('경희대', 1), ('컴공', 1), ('매력', 1), ('정부', 1), ('진화심리학', 1), ('부정', 1), ('지능', 1), ('의심', 1), ('피어싱', 3), ('널널', 1), ('저능', 1), ('아들', 1), ('아예', 1), ('조신', 1), ('관리', 1), ('스무살', 1), ('율붕이좀', 1), ('남중', 1), ('남고', 1), ('명도', 1), ('희귀', 1), ('템', 1), ('데헷', 1), ('상대방', 1), ('길', 1), ('다른사람', 1), ('스킨십', 1), ('상상', 1), ('양', 1), ('돌파', 1), ('감염', 1), ('프로', 1), ('중증', 1), ('논리', 1), ('파괴', 1), ('퍼', 1), ('포인트', 1), ('용서', 1), ('안녕', 2), ('다지', 1), ('의', 1), ('벽감', 1), ('노래', 1), ('창밖', 1), ('채', 1), ('이름', 1), ('결정', 1), ('만큼', 1), ('큰일', 1), ('전환', 1), ('봉사활동', 1), ('이란', 1), ('일찍', 1), ('당일', 1), ('등록', 1), ('코딩', 1), ('비아', 1), ('대길', 1), ('허언증', 1), ('궁금증', 1), ('이전', 2), ('짝사랑', 1), ('대부분', 1), ('브금', 1), ('메탈', 2), ('포켓몬', 1), ('골드', 1), ('실버', 1), ('문득', 1), ('배틀', 1), ('테마', 1), ('싹', 1), ('수십', 1), ('기준', 1), ('전형', 1), ('미인', 2), ('부합', 1), ('섹파', 1), ('보이', 1), ('노제', 2), ('호불호', 1), ('노', 1), ('제조', 1), ('상온', 1), ('도수', 1), ('버핏', 1), ('우파', 2), ('출연자', 1), ('형님', 1), ('클립', 1), ('꿈', 1), ('고양이', 1), ('조각상', 1), ('맘', 1), ('의문', 1), ('툭툭', 1), ('살다보면', 1), ('리라', 1), ('오름', 1), ('칠정', 1), ('안나', 1), ('오월', 1), ('향기', 1), ('넌', 1), ('시월', 1), ('그리움', 1), ('소화기', 1), ('내과', 1), ('진료', 1), ('분야', 1), ('간쪽', 1), ('쪽', 1), ('컴', 1), ('사코', 1), ('셤', 1), ('중생', 1), ('조언', 1), ('교내', 1), ('프로그램', 2), ('증명서', 3), ('발급', 2), ('인성', 1), ('품', 1), ('파일', 1), ('다운로드', 1), ('인쇄', 1), ('스캔', 1), ('공원', 1), ('목적', 1), ('머임', 1), ('놀이기구', 1), ('퍼레이드', 1), ('기타', 1), ('경동보일러', 1), ('보일러', 1), ('운전', 1), ('온도', 1), ('동파', 1), ('인정', 1), ('상이', 1), ('기상', 1), ('낮잠', 1), ('잠', 1), ('강제', 1), ('문제점', 1), ('질환', 1), ('접종', 1), ('증상', 1), ('사유', 1), ('일상생활', 1), ('자가진단', 1), ('잔', 1), ('총', 1), ('봐봣자', 1), ('발전', 1), ('겟', 1), ('채점', 1), ('종강', 1), ('틈', 1), ('타', 1), ('돈', 1), ('벽', 1), ('위선', 1), ('개천', 1), ('기적', 1), ('옆집', 2), ('통화', 1), ('어케', 1), ('눈치', 1), ('센티', 1), ('머쨍', 1), ('어른', 1), ('응애', 1), ('감히', 1), ('주름', 1), ('반짝', 1), ('아이유', 1), ('타입', 1), ('학벌', 1), ('빡세', 1), ('어찌', 1), ('스파게티', 3), ('요리사', 2), ('언어', 1), ('유린', 1), ('플레이', 1), ('기구', 1), ('인프피', 1), ('감성', 1), ('충', 1), ('인지', 1), ('해리포터', 2), ('덕후', 2), ('마블', 1), ('닥터스', 1), ('트레인', 1), ('토론', 1), ('닥후', 1), ('전여친', 1), ('봣는데', 1), ('그땐', 1), ('넹', 1), ('팔로우', 1), ('기록', 1), ('연하', 1), ('점점', 1), ('플하', 1), ('각자', 1), ('분량', 1), ('슬라이드', 1), ('간담췌외', 1), ('외과', 1), ('일지', 1), ('의지', 1), ('손목', 2), ('흉터', 1), ('자해', 1), ('취사', 1), ('병', 1), ('취', 1), ('반기', 1), ('윗쪽', 1), ('모서리', 1), ('놨는데', 1), ('화상', 1), ('연고', 1), ('짓', 1), ('일요일', 1), ('감고', 1), ('해적', 2), ('영화', 1), ('원피스', 1), ('캐리비안', 1), ('오리', 1), ('집게', 1), ('만들기', 1), ('주위', 1), ('엠비티아이', 1), ('통분', 2), ('경제학', 1), ('예제', 1), ('천재', 1), ('당장', 1), ('구현', 1), ('황달', 2), ('북적', 2), ('군', 1), ('소식', 1), ('훗훗', 1), ('정치', 1), ('외교', 1), ('진로', 2), ('정', 1), ('외로', 1), ('진입', 1), ('현', 1), ('정외', 1), ('학년', 1), ('와이드', 1), ('가성', 1), ('김츄', 1), ('미래', 2), ('계산', 1), ('가능성', 1), ('목표', 1), ('특정', 1), ('라텍스', 1), ('커피', 1), ('저번', 1), ('소문', 1), ('존예', 1), ('짝', 1), ('왕', 1), ('겉', 1), ('앤지', 1), ('관찰', 1), ('기억', 1), ('아우', 1), ('터', 1), ('교실', 1), ('창업', 1), ('실무', 1), ('기초', 2), ('강의', 1), ('제때', 1), ('코디', 1), ('검정', 1), ('크림', 1), ('상의', 1), ('난방', 1), ('찬', 1), ('바람', 1), ('실내', 1), ('널', 1), ('부자', 1), ('기업', 1), ('스톡옵션', 1), ('취하', 1), ('율붕', 1), ('브페', 1), ('반더빜', 1), ('선발', 1), ('마샬', 1), ('디자인학', 2), ('한가지', 1), ('치', 1), ('앞', 1), ('독서실', 1), ('형법', 1), ('책보', 1), ('로스쿨', 2), ('준비', 1), ('법대', 1), ('학원', 2), ('인강', 1), ('교재', 1), ('스프링', 1), ('제본', 1), ('커플', 1), ('깨', 1), ('짜파게티', 1), ('어어어어', 1), ('럴러러', 1), ('러러러', 1), ('멘토링', 1), ('후보', 1), ('집안', 1), ('술집', 2), ('로리', 1), ('메이드', 1), ('망', 1), ('필러', 1), ('몰래', 1), ('예전', 1), ('누군가', 1), ('무쌍', 1), ('회계', 1), ('쉅', 1), ('보셧던', 1), ('아이돌', 2), ('빠순이', 1), ('팬클럽', 1), ('가입', 1), ('콘서트', 2), ('일반', 1), ('보나', 1), ('디지털', 1), ('융합', 1), ('예술', 1), ('구해', 1), ('쓰레기', 1), ('토스', 1), ('애플', 1), ('마이크로소프트', 1), ('넷플릭스', 1), ('엔비디아', 1), ('구매', 1), ('평가', 1), ('새', 1), ('누런끼도', 1), ('성별', 1), ('하', 1), ('답', 1), ('햇던', 1), ('인스타', 1), ('스토리', 2), ('개시', 1), ('물', 1), ('해시태그', 1), ('폭탄', 1), ('첨가', 1), ('루이까또즈', 1), ('지갑', 2), ('분실', 1), ('타고', 1), ('농구장', 1), ('인문', 1), ('체감', 1), ('본분', 1), ('티나', 1), ('부작용', 1), ('셜', 1), ('성형', 1), ('여러가지', 1), ('형태', 1), ('경이', 1), ('커엽', 1), ('공존', 1), ('후반', 1), ('대여', 1), ('문외한', 1), ('그거', 1), ('가정', 1), ('근육남', 1), ('중간', 1), ('피부', 3), ('화장품', 1), ('제외', 1), ('펌정', 1), ('패턴', 1), ('어케된거', 1), ('약속', 1), ('잡지', 1), ('어사', 1), ('내적', 1), ('친밀', 1), ('다음주', 1), ('용기', 1), ('안남', 1), ('셋', 1), ('대망', 1), ('압구정', 1), ('광운대', 1), ('수원', 1), ('손바닥', 1), ('중학교', 1), ('일도', 1), ('한자', 1), ('괴발', 1), ('개발', 1), ('실제', 1), ('리뷰', 1), ('중요', 1), ('장면', 1), ('해설', 1), ('치면', 1), ('패널', 1), ('리액션', 1), ('불닭', 1), ('선서', 1), ('궁금', 1), ('두루', 2), ('스타일', 1), ('절친', 1), ('장단점', 1), ('차홍', 1), ('아르', 1), ('값', 1), ('후기', 1), ('그대', 1), ('멜로', 1), ('영', 1), ('헬프', 1), ('동사', 1), ('절', 1), ('멀티탭', 3), ('불빛', 2), ('방구', 1), ('조가', 1), ('주황', 1), ('빛', 1), ('가림', 1), ('메이크업', 1), ('브러쉬', 2), ('콤', 1), ('에스티', 1), ('로더', 1), ('팔면', 1), ('제품', 1), ('증정', 1), ('개비', 1), ('원', 1), ('가까이', 1), ('드', 1), ('근처', 1), ('어디가', 2), ('빠삭빠삭한가', 1), ('수능', 1), ('사면', 1), ('출시', 1), ('다크서클', 1), ('냉', 1), ('찜질', 2), ('간', 1), ('양제', 1), ('조', 1), ('인사', 1), ('최근', 1), ('이별', 1), ('체크', 1), ('리스트', 1), ('해당', 1), ('테', 1), ('갠톡', 1), ('톡', 4), ('변형', 1), ('레포트', 1), ('님들', 1), ('정립', 1), ('골', 1), ('고딩', 1), ('장점', 1), ('부랄', 1), ('그룹', 1), ('고추장', 3), ('손톱', 1), ('비빔밥', 1), ('톨', 1), ('당질', 1), ('대체', 1), ('소개팅', 1), ('나중', 1), ('심입', 1), ('공감', 1), ('반대', 1), ('동의', 1), ('아케', 1), ('징크스', 1), ('고분고분', 2), ('캠픽', 1), ('캠퍼스', 1), ('계란', 2), ('관부', 1), ('요리', 1), ('정의', 1), ('정지', 1), ('풀렷', 1), ('스트레스', 1), ('미움', 1), ('대해', 1), ('킬킬', 1), ('미리', 1), ('해볼랭', 1), ('훔', 1), ('궁금행', 1), ('해조', 1), ('지금껏', 1), ('완성', 1), ('스토브', 1), ('리그', 1), ('수정', 2), ('주심', 1), ('담', 1), ('쇼', 1), ('메이커', 1), ('덕담', 1), ('켈린', 1), ('도란', 1), ('버돌', 1), ('피넛', 1), ('룰러', 1), ('리헨즈', 1), ('호빗', 1), ('토욜날', 1), ('쇼타', 1), ('돈부리', 1), ('사회학', 1), ('입결', 2), ('팬', 1), ('포체', 1), ('티노', 1), ('감독', 1), ('맨유', 1), ('파리', 1), ('경기', 1), ('힌트', 1), ('짤', 1), ('번역', 1), ('주인공', 1), ('가산', 1), ('공모전', 1), ('만인', 1), ('연인', 1), ('발', 1), ('우리나라', 1), ('살기', 1), ('유럽', 1), ('오지', 1), ('대량', 1), ('호텔', 2), ('교도소', 1), ('이민자', 1), ('무슬림', 1), ('응꼬', 2), ('병원', 1), ('며칠', 1), ('오한기', 1), ('깊숙', 1), ('백화점', 1), ('파운데이션', 1), ('색상', 1), ('테스트', 1), ('독학사', 1), ('은제', 1), ('스테로이드', 1), ('윤곽', 1), ('주사', 1), ('평생', 1), ('만해', 1), ('몇번', 1), ('동안', 1), ('취준', 1), ('직장', 1), ('생활', 1), ('사람인', 1), ('인간관계', 1), ('임플란트', 2), ('마치', 1), ('공구', 1), ('광주', 1), ('샤머니즘', 1), ('참고문헌', 1), ('표기', 1), ('각주', 1), ('출처', 1), ('정보', 1), ('문장', 3), ('각', 1), ('맨', 1), ('끝', 1), ('가끔', 1), ('게시', 1), ('동영상', 1), ('반복', 1), ('재생', 1), ('슈바', 1), ('어케알', 1), ('일상', 1), ('솔이', 2), ('할인', 1), ('무스', 1), ('탕', 1), ('클론', 1), ('지옥', 1), ('연기', 1), ('만화', 1), ('대사도', 1), ('톤', 1), ('급발진', 1), ('사과', 1), ('취업', 1), ('어문', 1), ('각오', 1), ('포부', 1), ('소서', 1), ('희망', 1), ('가짐', 1), ('상경', 1), ('인권', 2), ('교육', 1), ('한국어', 2), ('웟', 1), ('대시보드', 1), ('기와', 1), ('소득', 1), ('예산선', 1), ('절편', 1), ('파란색', 1), ('나비', 2), ('존', 2), ('피지', 1), ('요철', 2), ('일주일', 1), ('아누', 1), ('어성초', 1), ('토너', 1), ('팩', 1), ('기부', 1), ('이마', 1), ('멀티', 1), ('프로필', 1), ('프사', 2), ('자꾸', 1), ('염증', 1), ('사형수', 1), ('마지막', 1), ('식사', 1), ('쌍둥이', 1), ('무엇', 1), ('장기', 1), ('정사', 1), ('서평', 1), ('인용', 1), ('하나요', 1), ('썸남', 1), ('왜케', 1), ('커리어', 1), ('첨부', 1), ('라거', 1), ('캡처', 1), ('예시', 1), ('몇개', 2), ('능력', 1), ('통금', 1), ('하우스', 1), ('작년', 1), ('활', 1), ('타로', 1), ('이근영', 1), ('국금론', 1), ('워드', 1), ('피뎊', 1), ('자필', 1), ('말씀', 1), ('쓸개', 1), ('만난', 1), ('거구', 1), ('자식', 1), ('개방', 1), ('부모', 1), ('대리', 1), ('꽉', 1), ('머리카락', 1), ('부비부비', 1), ('샴푸', 1), ('귀', 1), ('변태', 1), ('퓨', 1), ('소음', 1), ('신고', 1), ('소용', 1), ('주인', 1), ('브다샤펄', 1), ('도로', 1), ('띵곡이', 1), ('가족', 1), ('전세', 1), ('자금', 1), ('하라', 1), ('마심', 1), ('류성민', 1), ('마관', 1), ('오픽', 1), ('점수', 1), ('자취', 1), ('들락거려', 1), ('기타등등', 1), ('통장', 1), ('지랄', 1), ('타가', 1), ('수가', 1), ('안지우', 1), ('정치인', 1), ('초딩', 1), ('엄마', 2), ('사생활', 1), ('간섭', 3), ('학폭', 1), ('사주', 1), ('하든', 1), ('가해자', 1), ('불구', 1), ('고통', 1), ('십대', 1), ('불안감', 1), ('난생', 1), ('반했어', 1), ('예의', 1), ('주말', 2), ('릴리', 1), ('음성', 1), ('지원', 2), ('나나', 1), ('차별', 2), ('구별', 2), ('긍정', 1), ('의정부', 2), ('신규', 1), ('자살', 1), ('대학병원', 1), ('구세대', 1), ('검색', 1), ('시나', 1), ('직접', 1), ('프린트', 2), ('조지', 1), ('유미', 1), ('세포', 1), ('작', 1), ('조조', 1), ('코믹스', 1), ('졸잼임', 1), ('엽떡', 1), ('엽떡먹', 1), ('배달', 2), ('음식', 1), ('배민', 1), ('먹엇', 1), ('어쨌든', 1), ('쿠', 1), ('계약', 1), ('양도', 1), ('오른쪽', 1), ('혈관', 1), ('찌릿', 1), ('통증', 1), ('헤벌쭉', 1), ('황', 1), ('진격의거인', 1), ('유독', 1), ('스스로', 1), ('금방', 1), ('디즈니', 1), ('플러스', 1), ('세명', 1), ('구합', 1), ('연간', 1), ('욧', 1), ('중고차', 1), ('국룰', 1), ('던데', 1), ('뭐사', 1), ('이하', 1), ('충전기', 3), ('스타벅스', 1), ('눈팅', 1), ('동문', 1), ('한마디', 1), ('윈터', 1), ('구두', 1), ('폴댄스', 1), ('봉', 1), ('모습', 1), ('루피', 1), ('헤헤', 1), ('운명', 1), ('박력', 1), ('츤데레', 1), ('지고', 1), ('순', 1), ('퍼줌', 1), ('바닥', 1), ('개똥', 1), ('인연', 1), ('윤리학', 1), ('방식', 2), ('를', 1), ('이대', 2), ('중경', 1), ('아래', 1), ('팩트', 1), ('출고', 1), ('저희', 1), ('부모님', 1), ('벤츠', 1), ('신다해', 1), ('슬슬', 1), ('수고', 1), ('서역', 1), ('문', 1), ('논문', 1), ('각각', 1), ('알람', 1), ('딜교', 1), ('주먹밥', 1), ('비게', 1), ('종종', 1), ('진', 1), ('짠지', 1), ('바디', 1), ('스타', 1), ('후자', 1), ('승자', 1), ('몰카', 1), ('피임', 1), ('숏패딩', 1), ('리스', 1), ('드라이브', 2), ('모바일', 1), ('업로드', 1), ('일일이', 2), ('누', 1), ('불안', 1), ('억지로', 1), ('트레이너', 2), ('쌤', 1), ('평균', 1), ('자신감', 1), ('글보', 1), ('기념일', 1), ('안정', 1), ('델레이', 1), ('최애', 1), ('곡', 1), ('앨', 1), ('치가', 1), ('미국인', 1), ('고해성사', 1), ('거짓말', 1), ('동생', 1), ('보험금', 1), ('목돈', 1), ('중딩', 1), ('오피스텔', 1), ('여러', 1), ('부동산', 2), ('외국인', 1), ('가망', 1), ('보임', 1), ('우선', 1), ('안검', 1), ('하수', 1), ('주먹코', 1), ('광풍', 1), ('불어', 1), ('단체', 1), ('노무', 2), ('인지도', 1), ('옷장', 1), ('대학생', 1), ('사나', 1), ('행거', 1), ('수납', 1), ('애가', 1), ('여태', 1), ('겁', 1), ('지레', 1), ('짐작', 1), ('동일', 1), ('톡방', 1), ('군내', 2), ('사망자', 2), ('전시', 1), ('천명', 1), ('형부', 2), ('고백', 1), ('순위', 1), ('갓', 1), ('복학', 1), ('게다가', 1), ('연탄', 1), ('동반', 1), ('엠티', 2), ('년도', 1), ('더블', 1), ('심', 1), ('충격', 1), ('박민규', 1), ('매니저', 1), ('아기', 1), ('눈물', 1), ('웹툰', 1), ('실명', 1), ('짝남', 1), ('깨달', 1), ('푸대접', 1), ('성서', 1), ('한중', 1), ('경선', 1), ('퍽퍽', 1), ('학생회장', 1), ('스벅', 1), ('직전', 1), ('출입문', 1), ('주문', 1), ('못함', 1), ('상법', 1), ('이사', 2), ('회사법', 1), ('파트', 1), ('요요', 1), ('극복', 1), ('입구', 1), ('사시', 1), ('서울', 1), ('둘러보기', 1), ('독려', 1), ('물품', 1), ('고기', 2), ('화석', 1), ('과천', 2), ('경기도', 1), ('동네', 1), ('멸공', 2), ('강화', 1), ('복무', 1), ('찌워', 1), ('눈살', 1), ('두', 1), ('주시', 1), ('어쩐지', 1), ('카리나', 1), ('로켓', 1), ('펀쳐', 1), ('페북', 1), ('염탐', 1), ('이모티콘', 1), ('누르기', 1), ('눌렸는데', 1), ('하하', 1), ('세계관', 1), ('창글', 1), ('건대', 1), ('경북', 1), ('인하대', 1), ('아주대', 1), ('라이벌', 1), ('의식', 1), ('부경', 1), ('서울역', 1), ('구걸', 1), ('반민', 1), ('초단', 1), ('승리', 1), ('철회', 1), ('인테리어', 1), ('화장실', 1), ('모텔', 1), ('카메라', 1), ('데이트', 1), ('애정', 1), ('꽃다발', 1), ('꽃집', 1), ('예약', 1), ('강릉', 3), ('위치', 1), ('뚜벅', 1), ('바다', 1), ('뷰', 1), ('펜션', 1), ('시내', 1), ('해변', 2), ('어딘가', 1), ('안목', 1), ('발견', 1), ('토익', 3), ('퀸스', 1), ('갬빗', 1), ('판빙빙', 1), ('친추', 1), ('차단', 1), ('식당', 1), ('영업', 1), ('정진', 1), ('의장', 1), ('방학', 1), ('토플', 1), ('축하', 1), ('포켓', 1), ('스톱', 1), ('나레기', 1), ('임꺽정', 2), ('익명', 1), ('분신', 1), ('싱글벙글', 1), ('롤', 2), ('유지연', 1), ('라그', 1), ('스크랩', 1), ('서론', 1), ('본론', 1), ('결론', 1), ('구성', 1), ('마이', 1), ('틴', 1), ('코스', 1), ('내추럴', 1), ('초콜릿', 1), ('채플쉅', 1), ('장기기증', 2), ('용지', 2), ('채플', 1), ('유도', 1), ('홍보', 2), ('기증', 1), ('스터디', 1), ('대중매체', 1), ('이외', 1), ('삼각김밥', 1), ('라떼', 1), ('프리미엄', 1), ('파이널', 1), ('마트', 1), ('젤', 1), ('이마트', 1), ('출결', 1), ('결석', 1), ('타격', 1), ('쌍화탕', 1), ('기력', 1), ('식은땀', 1), ('호의', 1), ('친절', 1), ('흠', 1), ('팬카페', 1), ('호다닥', 1), ('편의점', 1), ('조합', 1), ('칭구들', 1), ('첫', 1), ('호캉스', 1), ('지방', 1), ('라운지', 1), ('애기', 1), ('어캐', 1), ('으', 1), ('분위', 1), ('상생', 1), ('조회', 1), ('화이자', 1), ('최대', 1), ('차로', 1), ('풍선', 1), ('고가', 1), ('공복', 2), ('산소', 1), ('걸음', 1), ('걷기', 1), ('장거리', 1), ('편도', 1), ('새우', 1), ('튀김', 1), ('우동', 1), ('이나', 1), ('소바', 1), ('국물', 1), ('암거', 1), ('결제', 1), ('동시', 1), ('접속', 1), ('한자리', 1), ('밸런스', 1), ('자임', 1), ('교회', 1), ('십일조', 1), ('고등학교', 1), ('동갑', 1), ('주로', 1), ('검', 1), ('이정', 1), ('사', 1), ('식욕', 1), ('대별', 1), ('전두환', 1), ('공과', 2), ('갤럽', 1), ('전직', 1), ('대통령', 1), ('강', 1), ('좌당', 1), ('티오', 1), ('무료', 2), ('참여', 1), ('네이버', 1), ('실시간', 1), ('검색어', 1), ('폐지', 1), ('영향력', 1), ('다이소', 1), ('케잌', 2), ('팔음', 1), ('정면', 1), ('샷', 1), ('측면', 1), ('옆', 1), ('가을', 1), ('겨울', 1), ('매번', 1), ('올해', 1), ('전공', 1), ('부안', 1), ('나야', 1), ('후회', 1), ('보기', 1), ('연말', 1), ('짐', 2), ('콘서트장', 1), ('겨우', 1), ('햇', 1), ('가수', 1), ('면봉', 1), ('손', 1), ('컨트롤', 1), ('롤햇', 1), ('컬', 1), ('볼륨', 1), ('콤플렉스', 1), ('뽕', 1), ('브라', 1), ('멍', 1), ('교대', 1), ('환산', 1), ('라인', 1), ('명율', 1), ('씨씨', 1), ('아이패드', 1), ('시세', 1), ('세대', 1), ('깡통', 1), ('이구', 1), ('리퍼', 2), ('재고', 1), ('용도', 1), ('려고', 1), ('펜', 1), ('대시', 1), ('다야', 1), ('혼밥', 1), ('쇼미더머니', 1), ('세미', 1), ('확정', 1), ('피쳐링', 1), ('기리보이', 1), ('악뮤', 1), ('이찬혁', 1), ('이수현', 1), ('릴', 1), ('팔로알토', 1), ('펀치', 1), ('넬', 1), ('로꼬', 1), ('쿠기', 1), ('정인', 1), ('이하이', 1), ('성경', 1), ('예배', 1), ('드릴', 1), ('번역본', 1), ('개역개정', 1), ('숭실대', 3), ('전과', 1), ('지인', 1), ('선비', 1), ('왤케좋', 1), ('러', 1), ('오프라인', 1), ('세월', 1), ('참여자', 1), ('상품권', 2), ('추첨', 1), ('고려대학교', 1), ('실증', 1), ('행', 1), ('태연', 1), ('랩', 1), ('석사과정', 1), ('강준', 1), ('학사', 1), ('김경민', 1), ('및', 1), ('투', 1), ('팔굽혀펴기', 1), ('창피해', 1), ('팔', 1), ('개인정보', 1), ('유출', 1), ('무서움', 1), ('대로', 1), ('초기', 1), ('세번', 1), ('아야', 1), ('당시', 1), ('모로', 1), ('멤버', 1), ('그녀', 1), ('탈퇴', 1), ('무대', 1), ('교촌', 1), ('현황', 1), ('국', 1), ('공시생', 1), ('문단', 1), ('밑줄', 1), ('놨', 1), ('토대', 1), ('소견', 1), ('혹평', 1), ('첨', 1), ('반영', 1), ('여백', 1), ('양쪽', 1), ('편집', 1), ('주사위', 1), ('유학', 1), ('개론', 1), ('칼답', 1), ('본적', 1), ('칼', 1), ('에어팟', 1), ('본체', 2), ('가즈', 1), ('학부', 1), ('교양과목', 1), ('조사', 1), ('오니', 1), ('하단', 1), ('통해', 1), ('울', 1), ('한의대', 2), ('한의학', 1), ('해만', 1), ('경희', 1), ('탑', 1), ('박스', 1), ('곧', 1), ('이불', 1), ('대학원', 1), ('무', 1), ('지렁이', 1), ('버러지', 1), ('비상', 1), ('경', 1), ('학업', 1), ('상담', 1), ('아마', 1), ('코옵', 1), ('이씨', 1), ('체육', 1), ('체', 2), ('대가', 1), ('구렇', 1), ('난리', 1), ('국립국어원', 2), ('문헌', 1), ('박신혜', 1), ('임신', 1), ('한텐', 1), ('상속', 1), ('은상', 1), ('코스프레', 1), ('외로워', 1), ('히터', 2), ('중앙', 1), ('벌써', 1), ('고구마', 1), ('토마토', 1), ('양배추', 1), ('파스타', 1), ('에이스', 1), ('린지', 1), ('스퀘어', 1), ('연동', 1), ('유영진', 2), ('딸', 3), ('목소리', 1), ('흔적', 1), ('갤탭', 1), ('발열', 3), ('갤럭시', 1), ('탭', 1), ('방해', 1), ('나무', 1), ('위키', 1), ('트루', 1), ('교과서', 1), ('토지', 2), ('사업', 1), ('수탈', 1), ('설', 1), ('문서', 1), ('연구원', 1), ('보고서', 1), ('곤', 1), ('템플스테이', 1), ('스님', 1), ('케플러', 1), ('아이즈', 1), ('빨', 1), ('미스', 1), ('나인', 1), ('중하', 1), ('탈', 1), ('포보', 1), ('복', 1), ('애틋', 1), ('카투사', 1), ('공군', 1), ('시기', 1), ('입대', 1), ('경쟁률', 1), ('계수', 1), ('형식', 1), ('논리학', 1), ('암살', 1), ('공익', 1), ('메가박스', 1), ('알바몬', 1), ('전달', 1), ('메세지', 1), ('서전', 1), ('개추', 1), ('과잠', 1), ('대학로', 1), ('왕십리', 1), ('신촌', 1), ('원리', 1), ('행복', 1), ('도파민', 1), ('해소', 1), ('약인', 1), ('예측', 1), ('구분', 1), ('유형', 1), ('향', 1), ('지향', 1), ('특유', 1), ('원칙', 1), ('움', 1), ('돈까스', 1), ('김치볶음밥', 1), ('복지관', 1), ('웨일', 1), ('직책', 1), ('설정', 1), ('거시', 2), ('이영식', 1), ('장선구', 1), ('김인', 2), ('경원', 1), ('전라도', 1), ('경상도', 1), ('섬진강', 1), ('줄기', 1), ('장터', 1), ('도중', 1), ('어캄', 1), ('일부러', 1), ('헬복지', 1), ('하반기', 1), ('시장', 1), ('똥둣간', 1), ('면도기', 1), ('칼날', 1), ('원가', 1), ('탈락', 1), ('스택', 1), ('랜덤', 1), ('이제인', 1), ('트', 1), ('비쁠', 1), ('런닝할때', 1), ('스포츠', 1), ('쇼크', 1), ('버', 1), ('블프', 1), ('컵', 1), ('아동', 1), ('강민희', 1), ('실강', 1), ('최', 1), ('신분', 1), ('서유럽', 1), ('여름', 1), ('볶음', 1), ('데이', 1), ('선관', 1), ('존멋', 1), ('해원', 1), ('메일', 1), ('욤', 1), ('한참', 1), ('대학교', 1), ('재청', 1), ('서구청', 1), ('과연', 1), ('금융정책', 1), ('교환', 1), ('세', 1), ('어째서', 1), ('스피킹', 1), ('무밍님', 1), ('마침', 1), ('낮', 1), ('파란', 1), ('몸무게', 1), ('속도', 2), ('퇴', 1), ('심술꾸러기', 1), ('녹음', 1), ('간식', 1), ('꾸러미', 1), ('도씨', 1), ('보라색', 1), ('사장', 1), ('약', 1), ('달동', 1), ('모집', 1), ('대학가', 1), ('시점', 1), ('피피티', 2), ('똥손', 1), ('장', 1), ('제시', 1), ('지장', 1), ('똥꼬', 1), ('지문', 2), ('고로', 1), ('항문', 1), ('보안', 1), ('홍채', 1), ('장치', 1), ('눈알', 1), ('손가락', 1), ('누렁이', 1), ('특식', 1), ('피자', 1), ('포테이토', 1), ('단기', 1), ('가기', 1), ('동남아', 1), ('프로게이머', 1), ('너구리', 1), ('휴식', 1), ('부담', 1), ('컷', 1), ('잇엇어', 1), ('창', 1), ('기둥', 1), ('간부', 1), ('태홍', 1), ('디아루가', 1), ('만남', 1), ('웅장', 1), ('온돌', 1), ('차이점', 1), ('양백', 1), ('날짜', 1), ('실화', 1), ('라운드', 1), ('대체복무', 1), ('그저께', 1), ('자동차', 1), ('페이', 1), ('코인', 1), ('협약', 1), ('국가장학금', 1), ('전액', 3), ('그동안', 1), ('의무', 1), ('전문', 1), ('풋살', 2), ('구파발역', 1), ('부근', 1), ('동창', 1), ('축구', 1), ('실력', 1), ('욥', 1), ('마원', 1), ('응모', 1), ('회원', 1), ('국장', 1), ('장학재단', 1), ('학자금대출', 1), ('학자금', 1), ('대출', 2), ('상환', 1), ('생활비', 1), ('베레모', 2), ('권건우', 1), ('정시', 1), ('실습', 1), ('사립학교', 1), ('사립', 1), ('공립', 1), ('어보', 1), ('교사', 1), ('최소한', 2), ('지식', 1), ('우울증', 1), ('호전', 1), ('자력', 1), ('택배', 3), ('반값', 1), ('수령', 1), ('주소', 2), ('메', 2), ('갈리아', 1), ('남혐', 1), ('갈이', 1), ('신스', 1), ('진운', 1), ('시사', 1), ('가관', 1), ('퉤', 1), ('마케팅', 1), ('인적', 1), ('합격', 1), ('법학', 1), ('장님', 1), ('특강', 1), ('참석', 1), ('유투', 1), ('연예인', 1), ('성폭력', 1), ('촬영', 1), ('브랜드', 1), ('캐시', 1), ('사랑방', 1), ('피치', 1), ('아메리카노', 1), ('시력', 2), ('하니', 1), ('과고', 1), ('무기', 1), ('제대로', 1), ('출제', 1), ('위원장', 1), ('국어', 1), ('전문가', 1), ('양반', 1), ('동거', 1), ('대요', 1), ('성신여대', 2), ('미대', 1), ('시생', 1), ('적정', 1), ('성신', 1), ('가천', 1), ('권일', 1), ('카타르', 1), ('월드컵', 1), ('계획', 1), ('랬', 1), ('휴학', 2), ('살라', 1), ('쿠폰', 2), ('취직', 1), ('제도', 1), ('류은아', 1), ('약정', 1), ('리본', 1), ('학글', 1), ('뺄껀데', 1), ('븐', 1), ('부비동염', 1), ('때무', 1), ('자기야', 1), ('충치', 1), ('치료', 1), ('치과', 1), ('적성', 1), ('릴랙스용', 1), ('아로마', 1), ('오일', 1), ('조음', 1), ('생일케이크', 1), ('케이크', 1), ('아이디', 1), ('어스', 1), ('배송', 2), ('꼰대들', 1), ('동아리', 1), ('자가', 1), ('격리', 1), ('산업', 1), ('파이', 1), ('낸싱', 1), ('녹화', 1), ('선톡', 1), ('분도', 1), ('퇴근', 1), ('반수', 1), ('미련', 1), ('재수', 1), ('낫겄', 1), ('에고', 1), ('날씬', 1), ('근육', 1), ('량', 1), ('문의', 1), ('성적표', 1), ('재팬', 1), ('놀러갈껄', 1), ('찬스', 1), ('아저씨', 1), ('국민', 2), ('곁', 1), ('추구', 1), ('사물함', 1), ('못내', 1), ('죽음', 1), ('스토킹', 1), ('복도', 1), ('애뽈', 1), ('워치', 1), ('수하', 1), ('조항', 1), ('유비쿼터스', 1), ('도움', 1), ('공공기관', 1), ('돌발', 1), ('시킴', 1), ('이어폰', 1), ('개심', 1), ('심해', 1), ('업데이트', 3), ('업뎃', 1), ('대본', 1), ('나용', 1), ('재밋', 1), ('도저히', 1), ('한남', 1), ('신예은', 1), ('나은', 1), ('김태리', 1), ('어케아', 1), ('학창시절', 1), ('뚱', 1), ('슬림탄탄', 1), ('체형', 1), ('김', 1), ('절대', 1), ('원두', 2), ('염', 1), ('특', 1), ('구함', 1), ('안국역', 1), ('아꼬떼', 1), ('평일', 1), ('오전', 1), ('아르바이트', 1), ('근무', 2), ('요일', 1), ('음소거', 1), ('외로움', 1), ('제작', 1), ('리얼타임', 1), ('스트리밍', 1), ('나라', 1), ('전대통령', 1), ('대전', 1), ('나마', 1), ('감옥', 1), ('쿠데타', 1), ('염라대왕', 1), ('왕위', 1), ('회화', 2), ('어회', 1), ('스마트', 1), ('보드', 1), ('유학생', 1), ('중국어', 1), ('국문', 1), ('영문', 1), ('놀토', 1), ('기름', 2), ('석유난로', 1), ('썻을때', 1), ('랫', 1), ('난로', 1), ('뎁혀', 1), ('추억', 1), ('당', 1), ('자퇴', 1), ('박정희', 1), ('말년', 1), ('안온', 1), ('김영삼', 1), ('서울시장', 1), ('이명박', 1), ('쉿', 1), ('서류', 1), ('통과', 1), ('추후', 1), ('땜', 1), ('수리', 1), ('시국', 1), ('성분', 1), ('명좀', 1), ('대형', 1), ('극히', 1), ('공적', 1), ('팅', 2), ('보이스피싱', 1), ('전화', 1), ('경찰청', 1), ('김민석', 1), ('어쩌구', 1), ('씨', 1), ('대답', 1), ('연루', 1), ('디', 1), ('퓨저', 1), ('빼빼로데이', 1), ('겨울방학', 1), ('종말', 1), ('착각', 1), ('중독', 1), ('닝닝', 1), ('빙의', 1), ('기미', 2), ('개똥벌레', 1), ('굴', 1), ('한글', 2), ('아래아', 1), ('글씨체', 1), ('쥬글거', 1), ('핑프', 1), ('얼음', 1), ('노열', 1), ('칸막이', 1), ('두기', 1), ('콘텐츠', 1), ('서사', 1), ('분석', 1), ('간단', 1), ('알약', 1), ('자칭', 1), ('적극', 1), ('최태준', 1), ('킥', 1), ('보더', 1), ('조심', 1), ('등교', 1), ('콜팝', 1), ('교시', 1), ('자도', 1), ('졸리', 2), ('일어나서', 1), ('건강검진', 1), ('사소리', 1), ('잠좀', 1), ('동이', 1), ('남사', 1), ('생선', 1), ('라벨', 2), ('통보', 1), ('수탄', 1), ('도전', 1), ('활용', 1), ('소프트웨어', 1), ('스마일', 1), ('라식', 2), ('라섹', 1), ('저하', 1), ('민주', 1), ('투사', 1), ('명언', 1), ('쟈', 1), ('국립묘지', 1), ('청와대', 2), ('만찬', 1), ('처', 1), ('철문', 1), ('화로', 1), ('상회', 1), ('슈벌', 1), ('협박', 1), ('근무시간', 1), ('텀', 1), ('예정', 1), ('운영', 1), ('세기', 1), ('집권', 1), ('장소', 1), ('오프', 1), ('전날', 1), ('자고', 1), ('이동', 1), ('기변', 1), ('원금', 1), ('거지', 1), ('김경신', 1), ('주신', 1), ('요약', 1), ('박근혜', 1), ('대갈', 1), ('윤', 1), ('구도', 1), ('다다', 1), ('여', 1), ('전문의', 1), ('여드름', 1), ('피부염', 1), ('핍스', 1), ('마시멜로우', 1), ('꿀팁', 1), ('신축', 1), ('심장', 1), ('반란', 1), ('수괴', 1), ('깊이', 1), ('연평도', 2), ('포격전', 1), ('대한민국', 1), ('영토', 1), ('기습', 1), ('군인', 1), ('전사', 1), ('민간인', 1), ('각종', 1), ('가옥', 1), ('년', 1), ('준', 1), ('행시', 1), ('시각장애인', 1), ('교육행정', 1), ('직', 1), ('수석', 1), ('존경', 1), ('킹족', 1), ('매일일보', 1), ('유동균', 2), ('실기', 2), ('환', 1), ('헤드라인', 1), ('별세', 1)]\n"
          ]
        }
      ]
    },
    {
      "cell_type": "code",
      "metadata": {
        "colab": {
          "base_uri": "https://localhost:8080/"
        },
        "id": "Q_QSwVDtzj2i",
        "outputId": "367477b3-b01f-411f-bc60-d04c30c050a4"
      },
      "source": [
        "heapq.heapify(noun_list)\n",
        "\n",
        "max_heap = []\n",
        "for noun in noun_list:\n",
        "  heapq.heappush(max_heap, (-noun[1], noun[1],noun[0]))\n",
        "\n",
        "for i in range(10):\n",
        "  a = heapq.heappop(max_heap)\n",
        "  print(a[2], a[1])"
      ],
      "execution_count": 21,
      "outputs": [
        {
          "output_type": "stream",
          "name": "stdout",
          "text": [
            "톡 4\n",
            "후후후 4\n",
            "간섭 3\n",
            "강릉 3\n",
            "고추장 3\n",
            "과외 3\n",
            "딸 3\n",
            "멀티탭 3\n",
            "문장 3\n",
            "반납 3\n"
          ]
        }
      ]
    }
  ]
}